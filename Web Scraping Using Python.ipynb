{
 "cells": [
  {
   "cell_type": "markdown",
   "id": "6c741f50",
   "metadata": {},
   "source": [
    "# WEB SCRAPPING\n",
    "\n",
    "This automatic way of getting for getting a content from the web page.\n",
    "The content used is html."
   ]
  },
  {
   "cell_type": "markdown",
   "id": "c320d9a4",
   "metadata": {},
   "source": [
    "## REQUEST\n",
    "Its the name of package available in python to get content from the website"
   ]
  },
  {
   "cell_type": "markdown",
   "id": "de005b00",
   "metadata": {},
   "source": [
    "## BEAUTIFUL SOUP\n",
    "it's parse/ analyse the content gotten from the web page."
   ]
  },
  {
   "cell_type": "markdown",
   "id": "a1e11461",
   "metadata": {},
   "source": [
    "## SENUNIUM\n",
    "it's used to get access from the web page before analysing the content"
   ]
  },
  {
   "cell_type": "markdown",
   "id": "f0c14ada",
   "metadata": {},
   "source": [
    "## STEPS TO PERFORM WEB SCRAPPING\n",
    "1. To visit the page to understand the content of how the page is been structured.\n",
    "2. To note all the neccessary informations you want to get from the website\n",
    "3. To go back to python environment and import all the necessary packages needed to work on the task\n",
    "4. To write the code to get the content listed out\n",
    "5. To save the data gotten in appropriate order\n"
   ]
  },
  {
   "cell_type": "code",
   "execution_count": null,
   "id": "58bd5869",
   "metadata": {},
   "outputs": [],
   "source": []
  },
  {
   "cell_type": "code",
   "execution_count": null,
   "id": "f6be167a",
   "metadata": {},
   "outputs": [],
   "source": []
  },
  {
   "cell_type": "code",
   "execution_count": null,
   "id": "0d8ca4cf",
   "metadata": {},
   "outputs": [],
   "source": []
  }
 ],
 "metadata": {
  "kernelspec": {
   "display_name": "Python 3 (ipykernel)",
   "language": "python",
   "name": "python3"
  },
  "language_info": {
   "codemirror_mode": {
    "name": "ipython",
    "version": 3
   },
   "file_extension": ".py",
   "mimetype": "text/x-python",
   "name": "python",
   "nbconvert_exporter": "python",
   "pygments_lexer": "ipython3",
   "version": "3.9.13"
  }
 },
 "nbformat": 4,
 "nbformat_minor": 5
}
